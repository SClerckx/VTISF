{
 "cells": [
  {
   "cell_type": "code",
   "execution_count": 4,
   "metadata": {},
   "outputs": [],
   "source": [
    "from WeinerGenerator import getWeiner\n",
    "from WeinerGeneratorNumba import getWeiner as getWeinerNumba\n",
    "\n",
    "import matplotlib.pyplot as plt"
   ]
  },
  {
   "cell_type": "code",
   "execution_count": 15,
   "metadata": {},
   "outputs": [
    {
     "name": "stdout",
     "output_type": "stream",
     "text": [
      "Wall time: 1.89 s\n"
     ]
    }
   ],
   "source": [
    "def plotRealization():\n",
    "    %time ts, ws, dws, dt = getWeiner(1000000,10, 0, noIO=True)\n",
    "\n",
    "    #plt.plot(ts,ws)\n",
    "\n",
    "plotRealization()"
   ]
  },
  {
   "cell_type": "code",
   "execution_count": 16,
   "metadata": {},
   "outputs": [
    {
     "name": "stdout",
     "output_type": "stream",
     "text": [
      "Wall time: 37 ms\n"
     ]
    }
   ],
   "source": [
    "def plotRealization():\n",
    "    %time ts, ws, dws, dt = getWeinerNumba(1000000,10, 0, noIO=True)\n",
    "\n",
    "    #plt.plot(ts,ws)\n",
    "\n",
    "plotRealization()"
   ]
  }
 ],
 "metadata": {
  "interpreter": {
   "hash": "88b306dc43b122e0ea14b0a41bbdfab1260727d2c1493b3f4f7d5de4850c7b9d"
  },
  "kernelspec": {
   "display_name": "Python 3.8.12 ('base')",
   "language": "python",
   "name": "python3"
  },
  "language_info": {
   "codemirror_mode": {
    "name": "ipython",
    "version": 3
   },
   "file_extension": ".py",
   "mimetype": "text/x-python",
   "name": "python",
   "nbconvert_exporter": "python",
   "pygments_lexer": "ipython3",
   "version": "3.8.12"
  },
  "orig_nbformat": 4
 },
 "nbformat": 4,
 "nbformat_minor": 2
}
